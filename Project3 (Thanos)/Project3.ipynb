{
 "cells": [
  {
   "cell_type": "code",
   "execution_count": 1,
   "metadata": {},
   "outputs": [],
   "source": [
    "import random\n",
    "import os\n",
    "import time"
   ]
  },
  {
   "cell_type": "code",
   "execution_count": 2,
   "metadata": {},
   "outputs": [],
   "source": [
    "def destroy(path_x):\n",
    "    l=len(os.listdir(path_x))//2\n",
    "    for i in range(l):\n",
    "        file_name=random.choice(os.listdir(path_x))\n",
    "        os.remove(f'{path_x}/{file_name}')\n",
    "        time.sleep(1)\n",
    "        print(f'{file_name} is destroyed')\n"
   ]
  },
  {
   "cell_type": "code",
   "execution_count": null,
   "metadata": {},
   "outputs": [
    {
     "name": "stdout",
     "output_type": "stream",
     "text": [
      "cover038.png is destroyed\n",
      "cover010.png is destroyed\n",
      "cover043.png is destroyed\n",
      "cover048.png is destroyed\n",
      "cover021.png is destroyed\n",
      "cover049.png is destroyed\n",
      "cover037.png is destroyed\n",
      "cover027.png is destroyed\n",
      "cover036.png is destroyed\n",
      "cover026.png is destroyed\n",
      "cover040.png is destroyed\n",
      "cover012.png is destroyed\n",
      "cover032.png is destroyed\n",
      "cover042.png is destroyed\n",
      "cover002.png is destroyed\n",
      "cover044.png is destroyed\n"
     ]
    }
   ],
   "source": [
    "destroy(r'F:\\Education\\Epsilon AI\\1-Basics of python\\Git Hub\\Projects\\Project3 (Thanos)\\universe')"
   ]
  }
 ],
 "metadata": {
  "kernelspec": {
   "display_name": "Python 3",
   "language": "python",
   "name": "python3"
  },
  "language_info": {
   "codemirror_mode": {
    "name": "ipython",
    "version": 3
   },
   "file_extension": ".py",
   "mimetype": "text/x-python",
   "name": "python",
   "nbconvert_exporter": "python",
   "pygments_lexer": "ipython3",
   "version": "3.7.6"
  }
 },
 "nbformat": 4,
 "nbformat_minor": 4
}
